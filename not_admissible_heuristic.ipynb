{
 "cells": [
  {
   "cell_type": "code",
   "execution_count": 18,
   "metadata": {},
   "outputs": [],
   "source": [
    "def manhattan_heuristic(position, colour):\n",
    "    if colour == \"red\":\n",
    "        goal = [[-3,-3], [-2,-2], [-3,-1], [-3, 0]]\n",
    "    elif colour == \"green\":\n",
    "        goal = [[-3, 3], [-2, 3], [-1, 3], [0, 3]]\n",
    "    elif colour == \"blue\":\n",
    "        goal = [[0, -3], [-1, -2], [-2, -1],[-3, 0]]\n",
    "#function hex_distance(a, b):\n",
    "  #  return (abs(a.q - b.q) \n",
    "   #       + abs(a.q + a.r - b.q - b.r)\n",
    "    #      + abs(a.r - b.r)) / 2\n",
    "    dist0 = (abs(position[0] - goal[0][0]) + abs(position[0] + position[1] - goal[0][0] - goal[0][1]) + abs(position[1] - goal[0][1]))/2\n",
    "    for i in range(1,4):\n",
    "        temp_dist = (abs(position[0] - goal[i][0]) + abs(position[0] + position[1] - goal[i][0] - goal[i][1]) + abs(position[1] - goal[i][1]))/2\n",
    "        if temp_dist < dist0:\n",
    "            dist0 = temp_dist\n",
    "    return int(dist0)\n",
    "        \n",
    "    \n",
    "   "
   ]
  },
  {
   "cell_type": "code",
   "execution_count": 21,
   "metadata": {},
   "outputs": [
    {
     "data": {
      "text/plain": [
       "3"
      ]
     },
     "execution_count": 21,
     "metadata": {},
     "output_type": "execute_result"
    }
   ],
   "source": [
    "manhattan_heuristic((0,0),\"blue\")"
   ]
  },
  {
   "cell_type": "code",
   "execution_count": null,
   "metadata": {},
   "outputs": [],
   "source": []
  }
 ],
 "metadata": {
  "kernelspec": {
   "display_name": "Python 3",
   "language": "python",
   "name": "python3"
  },
  "language_info": {
   "codemirror_mode": {
    "name": "ipython",
    "version": 3
   },
   "file_extension": ".py",
   "mimetype": "text/x-python",
   "name": "python",
   "nbconvert_exporter": "python",
   "pygments_lexer": "ipython3",
   "version": "3.6.5"
  }
 },
 "nbformat": 4,
 "nbformat_minor": 2
}
